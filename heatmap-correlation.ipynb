{
 "cells": [
  {
   "cell_type": "code",
   "execution_count": null,
   "id": "fedc8dcd-9789-4f84-8a6b-f355ca038b0c",
   "metadata": {},
   "outputs": [],
   "source": [
    "import pandas as pd  # Import pandas library for data manipulation\n",
    "import seaborn as sns  # Import seaborn for statistical data visualization\n",
    "import matplotlib.pyplot as plt  # Import matplotlib for plotting\n",
    "\n",
    "# Load data from CSV\n",
    "data = pd.read_csv('final.dms.csv')  # Read CSV data into a pandas DataFrame\n",
    "\n",
    "# Calculate pairwise correlations\n",
    "correlation_matrix = data.corr(method='spearman')  # Calculate correlation matrix using Spearman method\n",
    "\n",
    "# Generate correlation heatmap\n",
    "plt.figure(figsize=(10, 8))  # Create a new figure with specified size\n",
    "sns.heatmap(correlation_matrix, annot=True, cmap='coolwarm', fmt=\".2f\", vmin=0, vmax=1)  # Plot heatmap with correlation values annotated\n",
    "plt.title('Pairwise Relationships between Normalized Variant Effect Predictor')  # Set title for the plot\n",
    "plt.xticks(rotation=45)  # Rotate x-axis labels for better readability\n",
    "plt.yticks(rotation=45)  # Rotate y-axis labels for better readability\n",
    "\n",
    "# Save the correlation heatmap plot in high quality\n",
    "plt.savefig('correlation_heatmap.png')  # Save the plot as PNG file\n",
    "\n",
    "# Show plots\n",
    "plt.show()  # Display the plot\n"
   ]
  }
 ],
 "metadata": {
  "kernelspec": {
   "display_name": "Python 3 (ipykernel)",
   "language": "python",
   "name": "python3"
  },
  "language_info": {
   "codemirror_mode": {
    "name": "ipython",
    "version": 3
   },
   "file_extension": ".py",
   "mimetype": "text/x-python",
   "name": "python",
   "nbconvert_exporter": "python",
   "pygments_lexer": "ipython3",
   "version": "3.12.2"
  }
 },
 "nbformat": 4,
 "nbformat_minor": 5
}
