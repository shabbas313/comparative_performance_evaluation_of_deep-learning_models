{
 "cells": [
  {
   "cell_type": "code",
   "execution_count": null,
   "id": "dc7c95ba-9856-4546-bd69-18a09db68f82",
   "metadata": {},
   "outputs": [],
   "source": [
    "import pandas as pd  # Import pandas library for data manipulation\n",
    "from sklearn.metrics import roc_curve, auc  # Import functions for ROC curve and AUC calculation\n",
    "import matplotlib.pyplot as plt  # Import matplotlib for plotting\n",
    "\n",
    "data = pd.read_csv(\"roc-final-data.csv\")  # Read CSV data into a pandas DataFrame\n",
    "\n",
    "# Define tools and labels\n",
    "tools = list(data.columns)[1:]  # Extract tool names from column names\n",
    "labels = data['Clinvar']  # Extract labels from 'Clinvar' column\n",
    "\n",
    "# Define colors for each tool\n",
    "colors = ['slategray', 'skyblue', 'goldenrod']  # Define colors for plotting\n",
    "\n",
    "# Calculate ROC curves and AUCs\n",
    "fpr, tpr, _ = zip(*[roc_curve(labels, data[tool]) for tool in tools])  # Compute ROC curve and AUC for each tool\n",
    "aucs = [auc(x, y) for x, y in zip(fpr, tpr)]  # Compute AUC for each tool\n",
    "\n",
    "# Plot ROC curves\n",
    "plt.figure(figsize=(6, 6))  # Create a new figure with specified size\n",
    "\n",
    "# Plot each ROC curve with corresponding AUC value and color\n",
    "for i, (tool, auc_, color) in enumerate(zip(tools, aucs, colors)):\n",
    "    plt.plot(fpr[i], tpr[i], label=f'{tool} (AUC: {auc_:0.4f})', linewidth=2, color=color)\n",
    "\n",
    "plt.plot([0, 1], [0, 1], linestyle='--', color='red', label='baseline', linewidth=2)  # Plot the baseline diagonal line\n",
    "\n",
    "plt.xlabel('False Positive Rate (FPR)')  # Set label for x-axis\n",
    "plt.ylabel('True Positive Rate (TPR)')  # Set label for y-axis\n"
   ]
  }
 ],
 "metadata": {
  "kernelspec": {
   "display_name": "Python 3 (ipykernel)",
   "language": "python",
   "name": "python3"
  },
  "language_info": {
   "codemirror_mode": {
    "name": "ipython",
    "version": 3
   },
   "file_extension": ".py",
   "mimetype": "text/x-python",
   "name": "python",
   "nbconvert_exporter": "python",
   "pygments_lexer": "ipython3",
   "version": "3.12.2"
  }
 },
 "nbformat": 4,
 "nbformat_minor": 5
}
